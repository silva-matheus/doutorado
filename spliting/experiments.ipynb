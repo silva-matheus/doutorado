{
 "cells": [
  {
   "cell_type": "markdown",
   "metadata": {},
   "source": [
    "# Spliting Strategies\n"
   ]
  },
  {
   "cell_type": "code",
   "execution_count": null,
   "metadata": {},
   "outputs": [],
   "source": [
    "import pandas as pd\n",
    "import numpy as np\n",
    "import random\n",
    "from sklearn import linear_model, datasets, utils"
   ]
  },
  {
   "cell_type": "code",
   "execution_count": null,
   "metadata": {},
   "outputs": [],
   "source": [
    "data = datasets.load_iris()\n",
    "df = pd.DataFrame(data= np.c_[data['data'], data['target']], columns= data['feature_names'] + ['target'])"
   ]
  },
  {
   "cell_type": "code",
   "execution_count": null,
   "metadata": {},
   "outputs": [],
   "source": [
    "def kFoldCrossValidation(data, k = 10, seed = 50):\n",
    "    fold_size = round(len(data) / k)\n",
    "    kfolds = []\n",
    "    data = utils.shuffle(data, random_state=seed)\n",
    "    data.reset_index(inplace=True, drop=True)\n",
    "\n",
    "    subsets = [data.iloc[x:x+fold_size,] for x in range(0, len(data), fold_size)]\n",
    "    if len(data) > k*fold_size:\n",
    "        subsets[k-1].append(data.iloc[k*fold_size-1:,], ignore_index=True)\n",
    "    for index in range(k):\n",
    "        test = subsets[index]\n",
    "        train = pd.DataFrame()\n",
    "        for idx in range(k):\n",
    "            if idx != index:\n",
    "                train = pd.concat([train, subsets[idx]])\n",
    "        # yield train, test        \n",
    "        kfolds.append((train, test))\n",
    "    return kfolds    "
   ]
  },
  {
   "cell_type": "code",
   "execution_count": null,
   "metadata": {},
   "outputs": [],
   "source": [
    "split = kFoldCrossValidation(df)"
   ]
  },
  {
   "cell_type": "code",
   "execution_count": null,
   "metadata": {},
   "outputs": [],
   "source": [
    "def holdOutCrossValidation(data, train=70, seed=50):\n",
    "    data = utils.shuffle(data, random_state=seed)\n",
    "    data.reset_index(inplace=True, drop=True)\n",
    "    train_index = round((len(data)*train)/100)\n",
    "    train = data.iloc[0:train_index-1,]\n",
    "    test = data.iloc[train_index:, ]\n",
    "    return train, test"
   ]
  },
  {
   "cell_type": "code",
   "execution_count": null,
   "metadata": {},
   "outputs": [],
   "source": [
    "split = holdOutCrossValidation(df)"
   ]
  },
  {
   "cell_type": "code",
   "execution_count": null,
   "metadata": {},
   "outputs": [],
   "source": [
    "def stratifiedSampling(data, separator, train=70, random=True, seed=50):\n",
    "    stratified_data = []\n",
    "    train = pd.Dataframe()\n",
    "    test = pd.DataFrame()\n",
    "    \n",
    "    for value in data[separator].unique():\n",
    "        stratified_data.append(data[data[separator] == value])\n",
    "    \n",
    "    for sample in stratified_data:\n",
    "        prop = (len(data)*len())\n",
    "    '''Não está finalizado'''"
   ]
  }
 ],
 "metadata": {
  "language_info": {
   "codemirror_mode": {
    "name": "ipython",
    "version": 3
   },
   "file_extension": ".py",
   "mimetype": "text/x-python",
   "name": "python",
   "nbconvert_exporter": "python",
   "pygments_lexer": "ipython3",
   "version": 3
  },
  "orig_nbformat": 2,
  "kernelspec": {
   "name": "python_defaultSpec_1596660141985",
   "display_name": "Python 3.8.2 64-bit"
  }
 },
 "nbformat": 4,
 "nbformat_minor": 2
}