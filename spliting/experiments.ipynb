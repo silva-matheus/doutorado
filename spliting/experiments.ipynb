{
 "cells": [
  {
   "cell_type": "markdown",
   "metadata": {},
   "source": [
    "# Spliting and Sampling Strategies\n"
   ]
  },
  {
   "cell_type": "code",
   "execution_count": 3,
   "metadata": {},
   "outputs": [],
   "source": [
    "import pandas as pd\n",
    "import seaborn as sns\n",
    "import numpy as np\n",
    "import random\n",
    "from sklearn import linear_model, datasets, utils"
   ]
  },
  {
   "cell_type": "code",
   "execution_count": 4,
   "metadata": {},
   "outputs": [],
   "source": [
    "data = datasets.load_iris()\n",
    "df = pd.DataFrame(data= np.c_[data['data'], data['target']], columns= data['feature_names'] + ['target'])"
   ]
  },
  {
   "cell_type": "code",
   "execution_count": 5,
   "metadata": {},
   "outputs": [],
   "source": [
    "def kFoldCrossValidation(data, k = 10, seed = 50):\n",
    "    fold_size = round(len(data) / k)\n",
    "    kfolds = []\n",
    "    data = utils.shuffle(data, random_state=seed)\n",
    "    data.reset_index(inplace=True, drop=True)\n",
    "\n",
    "    subsets = [data.iloc[x:x+fold_size,] for x in range(0, len(data), fold_size)]\n",
    "\n",
    "    if len(data) > k*fold_size:\n",
    "        subsets[k-1].append(data.iloc[k*fold_size-1:,], ignore_index=True)\n",
    "    \n",
    "    for index in range(k):\n",
    "        test = subsets[index]\n",
    "        train = pd.DataFrame()\n",
    "        for idx in range(k):\n",
    "            if idx != index:\n",
    "                train = pd.concat([train, subsets[idx]])\n",
    "        # yield train, test        \n",
    "        kfolds.append((train, test))\n",
    "    return kfolds    "
   ]
  },
  {
   "cell_type": "code",
   "execution_count": 16,
   "metadata": {},
   "outputs": [
    {
     "output_type": "execute_result",
     "data": {
      "text/plain": "     sepal length (cm)  sepal width (cm)  petal length (cm)  petal width (cm)  \\\n15                 5.0               3.0                1.6               0.2   \n16                 5.8               2.7                3.9               1.2   \n17                 5.3               3.7                1.5               0.2   \n18                 5.5               2.4                3.7               1.0   \n19                 6.7               3.0                5.0               1.7   \n..                 ...               ...                ...               ...   \n145                5.9               3.2                4.8               1.8   \n146                6.4               2.8                5.6               2.2   \n147                5.5               4.2                1.4               0.2   \n148                7.2               3.6                6.1               2.5   \n149                6.9               3.1                5.4               2.1   \n\n     target  \n15      0.0  \n16      1.0  \n17      0.0  \n18      1.0  \n19      1.0  \n..      ...  \n145     1.0  \n146     2.0  \n147     0.0  \n148     2.0  \n149     2.0  \n\n[135 rows x 5 columns]",
      "text/html": "<div>\n<style scoped>\n    .dataframe tbody tr th:only-of-type {\n        vertical-align: middle;\n    }\n\n    .dataframe tbody tr th {\n        vertical-align: top;\n    }\n\n    .dataframe thead th {\n        text-align: right;\n    }\n</style>\n<table border=\"1\" class=\"dataframe\">\n  <thead>\n    <tr style=\"text-align: right;\">\n      <th></th>\n      <th>sepal length (cm)</th>\n      <th>sepal width (cm)</th>\n      <th>petal length (cm)</th>\n      <th>petal width (cm)</th>\n      <th>target</th>\n    </tr>\n  </thead>\n  <tbody>\n    <tr>\n      <th>15</th>\n      <td>5.0</td>\n      <td>3.0</td>\n      <td>1.6</td>\n      <td>0.2</td>\n      <td>0.0</td>\n    </tr>\n    <tr>\n      <th>16</th>\n      <td>5.8</td>\n      <td>2.7</td>\n      <td>3.9</td>\n      <td>1.2</td>\n      <td>1.0</td>\n    </tr>\n    <tr>\n      <th>17</th>\n      <td>5.3</td>\n      <td>3.7</td>\n      <td>1.5</td>\n      <td>0.2</td>\n      <td>0.0</td>\n    </tr>\n    <tr>\n      <th>18</th>\n      <td>5.5</td>\n      <td>2.4</td>\n      <td>3.7</td>\n      <td>1.0</td>\n      <td>1.0</td>\n    </tr>\n    <tr>\n      <th>19</th>\n      <td>6.7</td>\n      <td>3.0</td>\n      <td>5.0</td>\n      <td>1.7</td>\n      <td>1.0</td>\n    </tr>\n    <tr>\n      <th>...</th>\n      <td>...</td>\n      <td>...</td>\n      <td>...</td>\n      <td>...</td>\n      <td>...</td>\n    </tr>\n    <tr>\n      <th>145</th>\n      <td>5.9</td>\n      <td>3.2</td>\n      <td>4.8</td>\n      <td>1.8</td>\n      <td>1.0</td>\n    </tr>\n    <tr>\n      <th>146</th>\n      <td>6.4</td>\n      <td>2.8</td>\n      <td>5.6</td>\n      <td>2.2</td>\n      <td>2.0</td>\n    </tr>\n    <tr>\n      <th>147</th>\n      <td>5.5</td>\n      <td>4.2</td>\n      <td>1.4</td>\n      <td>0.2</td>\n      <td>0.0</td>\n    </tr>\n    <tr>\n      <th>148</th>\n      <td>7.2</td>\n      <td>3.6</td>\n      <td>6.1</td>\n      <td>2.5</td>\n      <td>2.0</td>\n    </tr>\n    <tr>\n      <th>149</th>\n      <td>6.9</td>\n      <td>3.1</td>\n      <td>5.4</td>\n      <td>2.1</td>\n      <td>2.0</td>\n    </tr>\n  </tbody>\n</table>\n<p>135 rows × 5 columns</p>\n</div>"
     },
     "metadata": {},
     "execution_count": 16
    }
   ],
   "source": [
    "split = kFoldCrossValidation(df, k=10)\n",
    "k_fold_train, k_fold_test = split[0][0], split[0][1]\n",
    "k_fold_train"
   ]
  },
  {
   "cell_type": "code",
   "execution_count": 17,
   "metadata": {},
   "outputs": [
    {
     "output_type": "execute_result",
     "data": {
      "text/plain": "    sepal length (cm)  sepal width (cm)  petal length (cm)  petal width (cm)  \\\n0                 5.6               3.0                4.1               1.3   \n1                 6.3               2.5                4.9               1.5   \n2                 5.4               3.4                1.7               0.2   \n3                 5.4               3.9                1.3               0.4   \n4                 6.5               3.0                5.2               2.0   \n5                 6.7               3.1                5.6               2.4   \n6                 5.7               2.5                5.0               2.0   \n7                 5.1               3.3                1.7               0.5   \n8                 4.8               3.0                1.4               0.1   \n9                 6.2               2.2                4.5               1.5   \n10                5.1               3.4                1.5               0.2   \n11                7.4               2.8                6.1               1.9   \n12                4.9               3.1                1.5               0.2   \n13                6.8               3.0                5.5               2.1   \n14                5.7               2.8                4.5               1.3   \n\n    target  \n0      1.0  \n1      1.0  \n2      0.0  \n3      0.0  \n4      2.0  \n5      2.0  \n6      2.0  \n7      0.0  \n8      0.0  \n9      1.0  \n10     0.0  \n11     2.0  \n12     0.0  \n13     2.0  \n14     1.0  ",
      "text/html": "<div>\n<style scoped>\n    .dataframe tbody tr th:only-of-type {\n        vertical-align: middle;\n    }\n\n    .dataframe tbody tr th {\n        vertical-align: top;\n    }\n\n    .dataframe thead th {\n        text-align: right;\n    }\n</style>\n<table border=\"1\" class=\"dataframe\">\n  <thead>\n    <tr style=\"text-align: right;\">\n      <th></th>\n      <th>sepal length (cm)</th>\n      <th>sepal width (cm)</th>\n      <th>petal length (cm)</th>\n      <th>petal width (cm)</th>\n      <th>target</th>\n    </tr>\n  </thead>\n  <tbody>\n    <tr>\n      <th>0</th>\n      <td>5.6</td>\n      <td>3.0</td>\n      <td>4.1</td>\n      <td>1.3</td>\n      <td>1.0</td>\n    </tr>\n    <tr>\n      <th>1</th>\n      <td>6.3</td>\n      <td>2.5</td>\n      <td>4.9</td>\n      <td>1.5</td>\n      <td>1.0</td>\n    </tr>\n    <tr>\n      <th>2</th>\n      <td>5.4</td>\n      <td>3.4</td>\n      <td>1.7</td>\n      <td>0.2</td>\n      <td>0.0</td>\n    </tr>\n    <tr>\n      <th>3</th>\n      <td>5.4</td>\n      <td>3.9</td>\n      <td>1.3</td>\n      <td>0.4</td>\n      <td>0.0</td>\n    </tr>\n    <tr>\n      <th>4</th>\n      <td>6.5</td>\n      <td>3.0</td>\n      <td>5.2</td>\n      <td>2.0</td>\n      <td>2.0</td>\n    </tr>\n    <tr>\n      <th>5</th>\n      <td>6.7</td>\n      <td>3.1</td>\n      <td>5.6</td>\n      <td>2.4</td>\n      <td>2.0</td>\n    </tr>\n    <tr>\n      <th>6</th>\n      <td>5.7</td>\n      <td>2.5</td>\n      <td>5.0</td>\n      <td>2.0</td>\n      <td>2.0</td>\n    </tr>\n    <tr>\n      <th>7</th>\n      <td>5.1</td>\n      <td>3.3</td>\n      <td>1.7</td>\n      <td>0.5</td>\n      <td>0.0</td>\n    </tr>\n    <tr>\n      <th>8</th>\n      <td>4.8</td>\n      <td>3.0</td>\n      <td>1.4</td>\n      <td>0.1</td>\n      <td>0.0</td>\n    </tr>\n    <tr>\n      <th>9</th>\n      <td>6.2</td>\n      <td>2.2</td>\n      <td>4.5</td>\n      <td>1.5</td>\n      <td>1.0</td>\n    </tr>\n    <tr>\n      <th>10</th>\n      <td>5.1</td>\n      <td>3.4</td>\n      <td>1.5</td>\n      <td>0.2</td>\n      <td>0.0</td>\n    </tr>\n    <tr>\n      <th>11</th>\n      <td>7.4</td>\n      <td>2.8</td>\n      <td>6.1</td>\n      <td>1.9</td>\n      <td>2.0</td>\n    </tr>\n    <tr>\n      <th>12</th>\n      <td>4.9</td>\n      <td>3.1</td>\n      <td>1.5</td>\n      <td>0.2</td>\n      <td>0.0</td>\n    </tr>\n    <tr>\n      <th>13</th>\n      <td>6.8</td>\n      <td>3.0</td>\n      <td>5.5</td>\n      <td>2.1</td>\n      <td>2.0</td>\n    </tr>\n    <tr>\n      <th>14</th>\n      <td>5.7</td>\n      <td>2.8</td>\n      <td>4.5</td>\n      <td>1.3</td>\n      <td>1.0</td>\n    </tr>\n  </tbody>\n</table>\n</div>"
     },
     "metadata": {},
     "execution_count": 17
    }
   ],
   "source": [
    "k_fold_test"
   ]
  },
  {
   "cell_type": "code",
   "execution_count": 7,
   "metadata": {},
   "outputs": [],
   "source": [
    "def holdOutCrossValidation(data, train=70, seed=50):\n",
    "    data = utils.shuffle(data, random_state=seed)\n",
    "    data.reset_index(inplace=True, drop=True)\n",
    "    train_index = round((len(data)*train)/100)\n",
    "    train = data.iloc[0:train_index-1,]\n",
    "    test = data.iloc[train_index:, ]\n",
    "    return train, test"
   ]
  },
  {
   "cell_type": "code",
   "execution_count": 11,
   "metadata": {
    "tags": []
   },
   "outputs": [
    {
     "output_type": "execute_result",
     "data": {
      "text/plain": "     sepal length (cm)  sepal width (cm)  petal length (cm)  petal width (cm)  \\\n0                  5.6               3.0                4.1               1.3   \n1                  6.3               2.5                4.9               1.5   \n2                  5.4               3.4                1.7               0.2   \n3                  5.4               3.9                1.3               0.4   \n4                  6.5               3.0                5.2               2.0   \n..                 ...               ...                ...               ...   \n99                 5.2               3.4                1.4               0.2   \n100                6.0               3.0                4.8               1.8   \n101                5.9               3.0                5.1               1.8   \n102                6.9               3.2                5.7               2.3   \n103                6.7               3.3                5.7               2.1   \n\n     target  \n0       1.0  \n1       1.0  \n2       0.0  \n3       0.0  \n4       2.0  \n..      ...  \n99      0.0  \n100     2.0  \n101     2.0  \n102     2.0  \n103     2.0  \n\n[104 rows x 5 columns]",
      "text/html": "<div>\n<style scoped>\n    .dataframe tbody tr th:only-of-type {\n        vertical-align: middle;\n    }\n\n    .dataframe tbody tr th {\n        vertical-align: top;\n    }\n\n    .dataframe thead th {\n        text-align: right;\n    }\n</style>\n<table border=\"1\" class=\"dataframe\">\n  <thead>\n    <tr style=\"text-align: right;\">\n      <th></th>\n      <th>sepal length (cm)</th>\n      <th>sepal width (cm)</th>\n      <th>petal length (cm)</th>\n      <th>petal width (cm)</th>\n      <th>target</th>\n    </tr>\n  </thead>\n  <tbody>\n    <tr>\n      <th>0</th>\n      <td>5.6</td>\n      <td>3.0</td>\n      <td>4.1</td>\n      <td>1.3</td>\n      <td>1.0</td>\n    </tr>\n    <tr>\n      <th>1</th>\n      <td>6.3</td>\n      <td>2.5</td>\n      <td>4.9</td>\n      <td>1.5</td>\n      <td>1.0</td>\n    </tr>\n    <tr>\n      <th>2</th>\n      <td>5.4</td>\n      <td>3.4</td>\n      <td>1.7</td>\n      <td>0.2</td>\n      <td>0.0</td>\n    </tr>\n    <tr>\n      <th>3</th>\n      <td>5.4</td>\n      <td>3.9</td>\n      <td>1.3</td>\n      <td>0.4</td>\n      <td>0.0</td>\n    </tr>\n    <tr>\n      <th>4</th>\n      <td>6.5</td>\n      <td>3.0</td>\n      <td>5.2</td>\n      <td>2.0</td>\n      <td>2.0</td>\n    </tr>\n    <tr>\n      <th>...</th>\n      <td>...</td>\n      <td>...</td>\n      <td>...</td>\n      <td>...</td>\n      <td>...</td>\n    </tr>\n    <tr>\n      <th>99</th>\n      <td>5.2</td>\n      <td>3.4</td>\n      <td>1.4</td>\n      <td>0.2</td>\n      <td>0.0</td>\n    </tr>\n    <tr>\n      <th>100</th>\n      <td>6.0</td>\n      <td>3.0</td>\n      <td>4.8</td>\n      <td>1.8</td>\n      <td>2.0</td>\n    </tr>\n    <tr>\n      <th>101</th>\n      <td>5.9</td>\n      <td>3.0</td>\n      <td>5.1</td>\n      <td>1.8</td>\n      <td>2.0</td>\n    </tr>\n    <tr>\n      <th>102</th>\n      <td>6.9</td>\n      <td>3.2</td>\n      <td>5.7</td>\n      <td>2.3</td>\n      <td>2.0</td>\n    </tr>\n    <tr>\n      <th>103</th>\n      <td>6.7</td>\n      <td>3.3</td>\n      <td>5.7</td>\n      <td>2.1</td>\n      <td>2.0</td>\n    </tr>\n  </tbody>\n</table>\n<p>104 rows × 5 columns</p>\n</div>"
     },
     "metadata": {},
     "execution_count": 11
    }
   ],
   "source": [
    "train, test = holdOutCrossValidation(df)\n",
    "train"
   ]
  },
  {
   "cell_type": "code",
   "execution_count": 13,
   "metadata": {},
   "outputs": [
    {
     "output_type": "execute_result",
     "data": {
      "text/plain": "     sepal length (cm)  sepal width (cm)  petal length (cm)  petal width (cm)  \\\n105                6.2               3.4                5.4               2.3   \n106                5.6               2.7                4.2               1.3   \n107                6.7               2.5                5.8               1.8   \n108                5.0               2.3                3.3               1.0   \n109                5.1               3.5                1.4               0.2   \n110                6.4               3.2                4.5               1.5   \n111                6.5               3.2                5.1               2.0   \n112                5.4               3.7                1.5               0.2   \n113                6.2               2.8                4.8               1.8   \n114                5.8               2.7                4.1               1.0   \n115                5.7               2.9                4.2               1.3   \n116                6.8               2.8                4.8               1.4   \n117                5.6               3.0                4.5               1.5   \n118                5.6               2.8                4.9               2.0   \n119                5.0               2.0                3.5               1.0   \n120                5.0               3.4                1.6               0.4   \n121                6.4               3.2                5.3               2.3   \n122                5.0               3.2                1.2               0.2   \n123                7.6               3.0                6.6               2.1   \n124                4.8               3.1                1.6               0.2   \n\n     target  \n105     2.0  \n106     1.0  \n107     2.0  \n108     1.0  \n109     0.0  \n110     1.0  \n111     2.0  \n112     0.0  \n113     2.0  \n114     1.0  \n115     1.0  \n116     1.0  \n117     1.0  \n118     2.0  \n119     1.0  \n120     0.0  \n121     2.0  \n122     0.0  \n123     2.0  \n124     0.0  ",
      "text/html": "<div>\n<style scoped>\n    .dataframe tbody tr th:only-of-type {\n        vertical-align: middle;\n    }\n\n    .dataframe tbody tr th {\n        vertical-align: top;\n    }\n\n    .dataframe thead th {\n        text-align: right;\n    }\n</style>\n<table border=\"1\" class=\"dataframe\">\n  <thead>\n    <tr style=\"text-align: right;\">\n      <th></th>\n      <th>sepal length (cm)</th>\n      <th>sepal width (cm)</th>\n      <th>petal length (cm)</th>\n      <th>petal width (cm)</th>\n      <th>target</th>\n    </tr>\n  </thead>\n  <tbody>\n    <tr>\n      <th>105</th>\n      <td>6.2</td>\n      <td>3.4</td>\n      <td>5.4</td>\n      <td>2.3</td>\n      <td>2.0</td>\n    </tr>\n    <tr>\n      <th>106</th>\n      <td>5.6</td>\n      <td>2.7</td>\n      <td>4.2</td>\n      <td>1.3</td>\n      <td>1.0</td>\n    </tr>\n    <tr>\n      <th>107</th>\n      <td>6.7</td>\n      <td>2.5</td>\n      <td>5.8</td>\n      <td>1.8</td>\n      <td>2.0</td>\n    </tr>\n    <tr>\n      <th>108</th>\n      <td>5.0</td>\n      <td>2.3</td>\n      <td>3.3</td>\n      <td>1.0</td>\n      <td>1.0</td>\n    </tr>\n    <tr>\n      <th>109</th>\n      <td>5.1</td>\n      <td>3.5</td>\n      <td>1.4</td>\n      <td>0.2</td>\n      <td>0.0</td>\n    </tr>\n    <tr>\n      <th>110</th>\n      <td>6.4</td>\n      <td>3.2</td>\n      <td>4.5</td>\n      <td>1.5</td>\n      <td>1.0</td>\n    </tr>\n    <tr>\n      <th>111</th>\n      <td>6.5</td>\n      <td>3.2</td>\n      <td>5.1</td>\n      <td>2.0</td>\n      <td>2.0</td>\n    </tr>\n    <tr>\n      <th>112</th>\n      <td>5.4</td>\n      <td>3.7</td>\n      <td>1.5</td>\n      <td>0.2</td>\n      <td>0.0</td>\n    </tr>\n    <tr>\n      <th>113</th>\n      <td>6.2</td>\n      <td>2.8</td>\n      <td>4.8</td>\n      <td>1.8</td>\n      <td>2.0</td>\n    </tr>\n    <tr>\n      <th>114</th>\n      <td>5.8</td>\n      <td>2.7</td>\n      <td>4.1</td>\n      <td>1.0</td>\n      <td>1.0</td>\n    </tr>\n    <tr>\n      <th>115</th>\n      <td>5.7</td>\n      <td>2.9</td>\n      <td>4.2</td>\n      <td>1.3</td>\n      <td>1.0</td>\n    </tr>\n    <tr>\n      <th>116</th>\n      <td>6.8</td>\n      <td>2.8</td>\n      <td>4.8</td>\n      <td>1.4</td>\n      <td>1.0</td>\n    </tr>\n    <tr>\n      <th>117</th>\n      <td>5.6</td>\n      <td>3.0</td>\n      <td>4.5</td>\n      <td>1.5</td>\n      <td>1.0</td>\n    </tr>\n    <tr>\n      <th>118</th>\n      <td>5.6</td>\n      <td>2.8</td>\n      <td>4.9</td>\n      <td>2.0</td>\n      <td>2.0</td>\n    </tr>\n    <tr>\n      <th>119</th>\n      <td>5.0</td>\n      <td>2.0</td>\n      <td>3.5</td>\n      <td>1.0</td>\n      <td>1.0</td>\n    </tr>\n    <tr>\n      <th>120</th>\n      <td>5.0</td>\n      <td>3.4</td>\n      <td>1.6</td>\n      <td>0.4</td>\n      <td>0.0</td>\n    </tr>\n    <tr>\n      <th>121</th>\n      <td>6.4</td>\n      <td>3.2</td>\n      <td>5.3</td>\n      <td>2.3</td>\n      <td>2.0</td>\n    </tr>\n    <tr>\n      <th>122</th>\n      <td>5.0</td>\n      <td>3.2</td>\n      <td>1.2</td>\n      <td>0.2</td>\n      <td>0.0</td>\n    </tr>\n    <tr>\n      <th>123</th>\n      <td>7.6</td>\n      <td>3.0</td>\n      <td>6.6</td>\n      <td>2.1</td>\n      <td>2.0</td>\n    </tr>\n    <tr>\n      <th>124</th>\n      <td>4.8</td>\n      <td>3.1</td>\n      <td>1.6</td>\n      <td>0.2</td>\n      <td>0.0</td>\n    </tr>\n  </tbody>\n</table>\n</div>"
     },
     "metadata": {},
     "execution_count": 13
    }
   ],
   "source": [
    "test.head(20)"
   ]
  },
  {
   "cell_type": "code",
   "execution_count": 54,
   "metadata": {},
   "outputs": [],
   "source": [
    "def stratifiedSampling(data, separator, repo=True, sample_size=70, seed=50, random=True):\n",
    "    stratified_data = []\n",
    "    np.random.seed(seed)\n",
    "    if random == True:\n",
    "        data = utils.shuffle(data, random_state=seed)\n",
    "        data.reset_index(inplace=True, drop=True)\n",
    "    sampling_size = round((len(data)*70)/100)\n",
    "    sampling = pd.DataFrame()\n",
    "\n",
    "    for value in data[separator].unique():\n",
    "        stratified_data.append(data[data[separator] == value])\n",
    "    \n",
    "    for sample in stratified_data:\n",
    "        sample_percent = (len(sample)*100)/len(data)\n",
    "        sample_size = round((sampling_size*sample_percent)/100)\n",
    "        for index in range(sample_size):\n",
    "            idx = np.random.randint(low=0, high=len(sample)-1) if random == True else index\n",
    "            sampling = sampling.append(sample.iloc[idx,])#  = pd.concat([sampling, sample.iloc[idx,]])\n",
    "            if repo == False:\n",
    "                sample.drop([sample.index[idx]])\n",
    "    sampling.reset_index(inplace=True, drop=True)\n",
    "    return sampling"
   ]
  },
  {
   "cell_type": "code",
   "execution_count": 55,
   "metadata": {
    "tags": []
   },
   "outputs": [
    {
     "output_type": "execute_result",
     "data": {
      "text/plain": "     petal length (cm)  petal width (cm)  sepal length (cm)  sepal width (cm)  \\\n0                  4.2               1.2                5.7               3.0   \n1                  4.6               1.3                6.6               2.9   \n2                  4.3               1.3                6.2               2.9   \n3                  4.6               1.4                6.1               3.0   \n4                  4.0               1.0                6.0               2.2   \n..                 ...               ...                ...               ...   \n100                5.8               1.8                6.7               2.5   \n101                4.9               2.0                5.6               2.8   \n102                4.9               1.8                6.3               2.7   \n103                5.1               1.9                5.8               2.7   \n104                5.1               1.8                5.9               3.0   \n\n     target  \n0       1.0  \n1       1.0  \n2       1.0  \n3       1.0  \n4       1.0  \n..      ...  \n100     2.0  \n101     2.0  \n102     2.0  \n103     2.0  \n104     2.0  \n\n[105 rows x 5 columns]",
      "text/html": "<div>\n<style scoped>\n    .dataframe tbody tr th:only-of-type {\n        vertical-align: middle;\n    }\n\n    .dataframe tbody tr th {\n        vertical-align: top;\n    }\n\n    .dataframe thead th {\n        text-align: right;\n    }\n</style>\n<table border=\"1\" class=\"dataframe\">\n  <thead>\n    <tr style=\"text-align: right;\">\n      <th></th>\n      <th>petal length (cm)</th>\n      <th>petal width (cm)</th>\n      <th>sepal length (cm)</th>\n      <th>sepal width (cm)</th>\n      <th>target</th>\n    </tr>\n  </thead>\n  <tbody>\n    <tr>\n      <th>0</th>\n      <td>4.2</td>\n      <td>1.2</td>\n      <td>5.7</td>\n      <td>3.0</td>\n      <td>1.0</td>\n    </tr>\n    <tr>\n      <th>1</th>\n      <td>4.6</td>\n      <td>1.3</td>\n      <td>6.6</td>\n      <td>2.9</td>\n      <td>1.0</td>\n    </tr>\n    <tr>\n      <th>2</th>\n      <td>4.3</td>\n      <td>1.3</td>\n      <td>6.2</td>\n      <td>2.9</td>\n      <td>1.0</td>\n    </tr>\n    <tr>\n      <th>3</th>\n      <td>4.6</td>\n      <td>1.4</td>\n      <td>6.1</td>\n      <td>3.0</td>\n      <td>1.0</td>\n    </tr>\n    <tr>\n      <th>4</th>\n      <td>4.0</td>\n      <td>1.0</td>\n      <td>6.0</td>\n      <td>2.2</td>\n      <td>1.0</td>\n    </tr>\n    <tr>\n      <th>...</th>\n      <td>...</td>\n      <td>...</td>\n      <td>...</td>\n      <td>...</td>\n      <td>...</td>\n    </tr>\n    <tr>\n      <th>100</th>\n      <td>5.8</td>\n      <td>1.8</td>\n      <td>6.7</td>\n      <td>2.5</td>\n      <td>2.0</td>\n    </tr>\n    <tr>\n      <th>101</th>\n      <td>4.9</td>\n      <td>2.0</td>\n      <td>5.6</td>\n      <td>2.8</td>\n      <td>2.0</td>\n    </tr>\n    <tr>\n      <th>102</th>\n      <td>4.9</td>\n      <td>1.8</td>\n      <td>6.3</td>\n      <td>2.7</td>\n      <td>2.0</td>\n    </tr>\n    <tr>\n      <th>103</th>\n      <td>5.1</td>\n      <td>1.9</td>\n      <td>5.8</td>\n      <td>2.7</td>\n      <td>2.0</td>\n    </tr>\n    <tr>\n      <th>104</th>\n      <td>5.1</td>\n      <td>1.8</td>\n      <td>5.9</td>\n      <td>3.0</td>\n      <td>2.0</td>\n    </tr>\n  </tbody>\n</table>\n<p>105 rows × 5 columns</p>\n</div>"
     },
     "metadata": {},
     "execution_count": 55
    }
   ],
   "source": [
    "split = stratifiedSampling(df, 'target', repo=False)\n",
    "split"
   ]
  },
  {
   "cell_type": "code",
   "execution_count": 47,
   "metadata": {},
   "outputs": [],
   "source": [
    "def simpleRandomSampling(data, repo=True, seed=50, sample_size=70):\n",
    "    np.random.seed(seed)\n",
    "    data = utils.shuffle(data, random_state=seed)\n",
    "    data.reset_index(inplace=True, drop=True)\n",
    "    df = data\n",
    "    sample_size = round((len(data)*70)/100)\n",
    "    sample = pd.DataFrame()\n",
    "    \n",
    "    for index in range(sample_size):\n",
    "        idx = np.random.randint(low=0, high=len(df)-1)\n",
    "        sample = sample.append(df.iloc[idx,])#  = pd.concat([sampling, sample.iloc[idx,]])\n",
    "        if repo == False:\n",
    "            df.drop([idx])\n",
    "    \n",
    "    sample.reset_index(inplace=True, drop=True)\n",
    "    return sample"
   ]
  },
  {
   "cell_type": "code",
   "execution_count": 50,
   "metadata": {},
   "outputs": [
    {
     "output_type": "execute_result",
     "data": {
      "text/plain": "     petal length (cm)  petal width (cm)  sepal length (cm)  sepal width (cm)  \\\n0                  4.0               1.3                6.1               2.8   \n1                  1.4               0.2                5.1               3.5   \n2                  5.7               2.5                6.7               3.3   \n3                  1.4               0.2                5.0               3.3   \n4                  6.3               1.8                7.3               2.9   \n..                 ...               ...                ...               ...   \n100                1.2               0.2                5.8               4.0   \n101                4.1               1.3                5.6               3.0   \n102                4.7               1.4                7.0               3.2   \n103                1.4               0.2                4.6               3.2   \n104                4.8               1.8                6.2               2.8   \n\n     target  \n0       1.0  \n1       0.0  \n2       2.0  \n3       0.0  \n4       2.0  \n..      ...  \n100     0.0  \n101     1.0  \n102     1.0  \n103     0.0  \n104     2.0  \n\n[105 rows x 5 columns]",
      "text/html": "<div>\n<style scoped>\n    .dataframe tbody tr th:only-of-type {\n        vertical-align: middle;\n    }\n\n    .dataframe tbody tr th {\n        vertical-align: top;\n    }\n\n    .dataframe thead th {\n        text-align: right;\n    }\n</style>\n<table border=\"1\" class=\"dataframe\">\n  <thead>\n    <tr style=\"text-align: right;\">\n      <th></th>\n      <th>petal length (cm)</th>\n      <th>petal width (cm)</th>\n      <th>sepal length (cm)</th>\n      <th>sepal width (cm)</th>\n      <th>target</th>\n    </tr>\n  </thead>\n  <tbody>\n    <tr>\n      <th>0</th>\n      <td>4.0</td>\n      <td>1.3</td>\n      <td>6.1</td>\n      <td>2.8</td>\n      <td>1.0</td>\n    </tr>\n    <tr>\n      <th>1</th>\n      <td>1.4</td>\n      <td>0.2</td>\n      <td>5.1</td>\n      <td>3.5</td>\n      <td>0.0</td>\n    </tr>\n    <tr>\n      <th>2</th>\n      <td>5.7</td>\n      <td>2.5</td>\n      <td>6.7</td>\n      <td>3.3</td>\n      <td>2.0</td>\n    </tr>\n    <tr>\n      <th>3</th>\n      <td>1.4</td>\n      <td>0.2</td>\n      <td>5.0</td>\n      <td>3.3</td>\n      <td>0.0</td>\n    </tr>\n    <tr>\n      <th>4</th>\n      <td>6.3</td>\n      <td>1.8</td>\n      <td>7.3</td>\n      <td>2.9</td>\n      <td>2.0</td>\n    </tr>\n    <tr>\n      <th>...</th>\n      <td>...</td>\n      <td>...</td>\n      <td>...</td>\n      <td>...</td>\n      <td>...</td>\n    </tr>\n    <tr>\n      <th>100</th>\n      <td>1.2</td>\n      <td>0.2</td>\n      <td>5.8</td>\n      <td>4.0</td>\n      <td>0.0</td>\n    </tr>\n    <tr>\n      <th>101</th>\n      <td>4.1</td>\n      <td>1.3</td>\n      <td>5.6</td>\n      <td>3.0</td>\n      <td>1.0</td>\n    </tr>\n    <tr>\n      <th>102</th>\n      <td>4.7</td>\n      <td>1.4</td>\n      <td>7.0</td>\n      <td>3.2</td>\n      <td>1.0</td>\n    </tr>\n    <tr>\n      <th>103</th>\n      <td>1.4</td>\n      <td>0.2</td>\n      <td>4.6</td>\n      <td>3.2</td>\n      <td>0.0</td>\n    </tr>\n    <tr>\n      <th>104</th>\n      <td>4.8</td>\n      <td>1.8</td>\n      <td>6.2</td>\n      <td>2.8</td>\n      <td>2.0</td>\n    </tr>\n  </tbody>\n</table>\n<p>105 rows × 5 columns</p>\n</div>"
     },
     "metadata": {},
     "execution_count": 50
    }
   ],
   "source": [
    "sample = randomSimpleStratifiedSampling(df, repo=False)\n",
    "sample"
   ]
  },
  {
   "cell_type": "code",
   "execution_count": 55,
   "metadata": {},
   "outputs": [],
   "source": [
    "def systematicSampling(data, size, seed=50):\n",
    "    N = len(data)\n",
    "    n = size\n",
    "    k = round(N/n)\n",
    "    r = np.random.randint(low=0, high=k-1)\n",
    "    data = utils.shuffle(data, random_state=seed)\n",
    "    data.reset_index(inplace=True, drop=True)\n",
    "    np.random.seed(seed)\n",
    "    sample = pd.DataFrame()\n",
    "\n",
    "    for ind in range(0, N, k):\n",
    "        sample = sample.append(data.iloc[ind,])\n",
    "    \n",
    "    sample.reset_index(inplace=True, drop=True)\n",
    "    return sample "
   ]
  },
  {
   "cell_type": "code",
   "execution_count": 56,
   "metadata": {},
   "outputs": [
    {
     "output_type": "execute_result",
     "data": {
      "text/plain": "    petal length (cm)  petal width (cm)  sepal length (cm)  sepal width (cm)  \\\n0                 4.1               1.3                5.6               3.0   \n1                 5.6               2.4                6.7               3.1   \n2                 1.5               0.2                5.1               3.4   \n3                 1.6               0.2                5.0               3.0   \n4                 6.0               2.5                6.3               3.3   \n5                 6.9               2.3                7.7               2.6   \n6                 6.0               1.8                7.2               3.2   \n7                 1.5               0.2                4.6               3.1   \n8                 1.3               0.3                4.5               2.3   \n9                 1.4               0.3                5.1               3.5   \n10                4.4               1.4                6.6               3.0   \n11                4.1               1.3                5.7               2.8   \n12                6.7               2.2                7.7               3.8   \n13                5.5               1.8                6.5               3.0   \n14                6.3               1.8                7.3               2.9   \n15                1.4               0.2                4.6               3.2   \n16                1.6               0.2                4.7               3.2   \n17                1.4               0.3                4.8               3.0   \n18                4.6               1.3                6.6               2.9   \n19                4.0               1.0                6.0               2.2   \n20                4.8               1.8                6.0               3.0   \n21                5.4               2.3                6.2               3.4   \n22                4.5               1.5                6.4               3.2   \n23                4.2               1.3                5.7               2.9   \n24                1.6               0.4                5.0               3.4   \n25                3.5               1.0                5.7               2.6   \n26                4.5               1.7                4.9               2.5   \n27                5.6               1.4                6.1               2.6   \n28                4.2               1.2                5.7               3.0   \n29                4.8               1.8                5.9               3.2   \n\n    target  \n0      1.0  \n1      2.0  \n2      0.0  \n3      0.0  \n4      2.0  \n5      2.0  \n6      2.0  \n7      0.0  \n8      0.0  \n9      0.0  \n10     1.0  \n11     1.0  \n12     2.0  \n13     2.0  \n14     2.0  \n15     0.0  \n16     0.0  \n17     0.0  \n18     1.0  \n19     1.0  \n20     2.0  \n21     2.0  \n22     1.0  \n23     1.0  \n24     0.0  \n25     1.0  \n26     2.0  \n27     2.0  \n28     1.0  \n29     1.0  ",
      "text/html": "<div>\n<style scoped>\n    .dataframe tbody tr th:only-of-type {\n        vertical-align: middle;\n    }\n\n    .dataframe tbody tr th {\n        vertical-align: top;\n    }\n\n    .dataframe thead th {\n        text-align: right;\n    }\n</style>\n<table border=\"1\" class=\"dataframe\">\n  <thead>\n    <tr style=\"text-align: right;\">\n      <th></th>\n      <th>petal length (cm)</th>\n      <th>petal width (cm)</th>\n      <th>sepal length (cm)</th>\n      <th>sepal width (cm)</th>\n      <th>target</th>\n    </tr>\n  </thead>\n  <tbody>\n    <tr>\n      <th>0</th>\n      <td>4.1</td>\n      <td>1.3</td>\n      <td>5.6</td>\n      <td>3.0</td>\n      <td>1.0</td>\n    </tr>\n    <tr>\n      <th>1</th>\n      <td>5.6</td>\n      <td>2.4</td>\n      <td>6.7</td>\n      <td>3.1</td>\n      <td>2.0</td>\n    </tr>\n    <tr>\n      <th>2</th>\n      <td>1.5</td>\n      <td>0.2</td>\n      <td>5.1</td>\n      <td>3.4</td>\n      <td>0.0</td>\n    </tr>\n    <tr>\n      <th>3</th>\n      <td>1.6</td>\n      <td>0.2</td>\n      <td>5.0</td>\n      <td>3.0</td>\n      <td>0.0</td>\n    </tr>\n    <tr>\n      <th>4</th>\n      <td>6.0</td>\n      <td>2.5</td>\n      <td>6.3</td>\n      <td>3.3</td>\n      <td>2.0</td>\n    </tr>\n    <tr>\n      <th>5</th>\n      <td>6.9</td>\n      <td>2.3</td>\n      <td>7.7</td>\n      <td>2.6</td>\n      <td>2.0</td>\n    </tr>\n    <tr>\n      <th>6</th>\n      <td>6.0</td>\n      <td>1.8</td>\n      <td>7.2</td>\n      <td>3.2</td>\n      <td>2.0</td>\n    </tr>\n    <tr>\n      <th>7</th>\n      <td>1.5</td>\n      <td>0.2</td>\n      <td>4.6</td>\n      <td>3.1</td>\n      <td>0.0</td>\n    </tr>\n    <tr>\n      <th>8</th>\n      <td>1.3</td>\n      <td>0.3</td>\n      <td>4.5</td>\n      <td>2.3</td>\n      <td>0.0</td>\n    </tr>\n    <tr>\n      <th>9</th>\n      <td>1.4</td>\n      <td>0.3</td>\n      <td>5.1</td>\n      <td>3.5</td>\n      <td>0.0</td>\n    </tr>\n    <tr>\n      <th>10</th>\n      <td>4.4</td>\n      <td>1.4</td>\n      <td>6.6</td>\n      <td>3.0</td>\n      <td>1.0</td>\n    </tr>\n    <tr>\n      <th>11</th>\n      <td>4.1</td>\n      <td>1.3</td>\n      <td>5.7</td>\n      <td>2.8</td>\n      <td>1.0</td>\n    </tr>\n    <tr>\n      <th>12</th>\n      <td>6.7</td>\n      <td>2.2</td>\n      <td>7.7</td>\n      <td>3.8</td>\n      <td>2.0</td>\n    </tr>\n    <tr>\n      <th>13</th>\n      <td>5.5</td>\n      <td>1.8</td>\n      <td>6.5</td>\n      <td>3.0</td>\n      <td>2.0</td>\n    </tr>\n    <tr>\n      <th>14</th>\n      <td>6.3</td>\n      <td>1.8</td>\n      <td>7.3</td>\n      <td>2.9</td>\n      <td>2.0</td>\n    </tr>\n    <tr>\n      <th>15</th>\n      <td>1.4</td>\n      <td>0.2</td>\n      <td>4.6</td>\n      <td>3.2</td>\n      <td>0.0</td>\n    </tr>\n    <tr>\n      <th>16</th>\n      <td>1.6</td>\n      <td>0.2</td>\n      <td>4.7</td>\n      <td>3.2</td>\n      <td>0.0</td>\n    </tr>\n    <tr>\n      <th>17</th>\n      <td>1.4</td>\n      <td>0.3</td>\n      <td>4.8</td>\n      <td>3.0</td>\n      <td>0.0</td>\n    </tr>\n    <tr>\n      <th>18</th>\n      <td>4.6</td>\n      <td>1.3</td>\n      <td>6.6</td>\n      <td>2.9</td>\n      <td>1.0</td>\n    </tr>\n    <tr>\n      <th>19</th>\n      <td>4.0</td>\n      <td>1.0</td>\n      <td>6.0</td>\n      <td>2.2</td>\n      <td>1.0</td>\n    </tr>\n    <tr>\n      <th>20</th>\n      <td>4.8</td>\n      <td>1.8</td>\n      <td>6.0</td>\n      <td>3.0</td>\n      <td>2.0</td>\n    </tr>\n    <tr>\n      <th>21</th>\n      <td>5.4</td>\n      <td>2.3</td>\n      <td>6.2</td>\n      <td>3.4</td>\n      <td>2.0</td>\n    </tr>\n    <tr>\n      <th>22</th>\n      <td>4.5</td>\n      <td>1.5</td>\n      <td>6.4</td>\n      <td>3.2</td>\n      <td>1.0</td>\n    </tr>\n    <tr>\n      <th>23</th>\n      <td>4.2</td>\n      <td>1.3</td>\n      <td>5.7</td>\n      <td>2.9</td>\n      <td>1.0</td>\n    </tr>\n    <tr>\n      <th>24</th>\n      <td>1.6</td>\n      <td>0.4</td>\n      <td>5.0</td>\n      <td>3.4</td>\n      <td>0.0</td>\n    </tr>\n    <tr>\n      <th>25</th>\n      <td>3.5</td>\n      <td>1.0</td>\n      <td>5.7</td>\n      <td>2.6</td>\n      <td>1.0</td>\n    </tr>\n    <tr>\n      <th>26</th>\n      <td>4.5</td>\n      <td>1.7</td>\n      <td>4.9</td>\n      <td>2.5</td>\n      <td>2.0</td>\n    </tr>\n    <tr>\n      <th>27</th>\n      <td>5.6</td>\n      <td>1.4</td>\n      <td>6.1</td>\n      <td>2.6</td>\n      <td>2.0</td>\n    </tr>\n    <tr>\n      <th>28</th>\n      <td>4.2</td>\n      <td>1.2</td>\n      <td>5.7</td>\n      <td>3.0</td>\n      <td>1.0</td>\n    </tr>\n    <tr>\n      <th>29</th>\n      <td>4.8</td>\n      <td>1.8</td>\n      <td>5.9</td>\n      <td>3.2</td>\n      <td>1.0</td>\n    </tr>\n  </tbody>\n</table>\n</div>"
     },
     "metadata": {},
     "execution_count": 56
    }
   ],
   "source": [
    "sample = systematicSampling(df, 30)\n",
    "sample"
   ]
  },
  {
   "cell_type": "markdown",
   "metadata": {},
   "source": [
    "## Convenience Sampling\n",
    "\n",
    "* Convenince Sampling, also know avalilability sampling, is a specific type of non-probability sampling method that relies on data collection from propulation members who are conveniently available to participate in study or experiment.\n",
    "\n",
    "* Convenience Sampling is a type of sampling where the first available primary data source will be esed for the research without any additional requirements;\n",
    "\n",
    "* The best way to reduce the bias of convenience sampling is to use that along other statistical sampling method;"
   ]
  }
 ],
 "metadata": {
  "language_info": {
   "codemirror_mode": {
    "name": "ipython",
    "version": 3
   },
   "file_extension": ".py",
   "mimetype": "text/x-python",
   "name": "python",
   "nbconvert_exporter": "python",
   "pygments_lexer": "ipython3",
   "version": 3
  },
  "orig_nbformat": 2,
  "kernelspec": {
   "name": "python_defaultSpec_1597160149359",
   "display_name": "Python 3.8.2 64-bit"
  }
 },
 "nbformat": 4,
 "nbformat_minor": 2
}